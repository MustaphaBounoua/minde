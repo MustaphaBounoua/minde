{
 "cells": [
  {
   "cell_type": "code",
   "execution_count": null,
   "metadata": {},
   "outputs": [],
   "source": [
    "\n",
    "import jax\n",
    "jax.config.update('jax_platforms', 'cpu')\n",
    "import bmi\n",
    "from src.libs.minde import MINDE\n",
    "from src.scripts.helper import get_data_loader, get_default_config"
   ]
  },
  {
   "cell_type": "code",
   "execution_count": null,
   "metadata": {},
   "outputs": [],
   "source": [
    "bmi.benchmark.BENCHMARK_TASKS"
   ]
  },
  {
   "cell_type": "code",
   "execution_count": null,
   "metadata": {},
   "outputs": [],
   "source": [
    "bmi.benchmark.BENCHMARK_TASKS\n",
    "#name_task = \"1v1-normal-0.75\"\n",
    "name_task=\"1v1-normal-0.75\"\n",
    "task = bmi.benchmark.BENCHMARK_TASKS[name_task]\n",
    "task.mutual_information"
   ]
  },
  {
   "cell_type": "code",
   "execution_count": null,
   "metadata": {},
   "outputs": [],
   "source": [
    "args = get_default_config()\n",
    "args.type =\"c\"\n",
    "args.test_epoch=2\n",
    "args.max_epochs=25\n",
    "args.warmup_epochs = 0\n",
    "args.bs =512\n",
    "args.lr = 1e-3\n",
    "args.arch = \"mlp\"\n",
    "args.importance_sampling = True\n",
    "args.use_ema = True\n"
   ]
  },
  {
   "cell_type": "code",
   "execution_count": null,
   "metadata": {},
   "outputs": [],
   "source": [
    "train_l,test_l = get_data_loader(args,task)\n",
    "model = MINDE(args,var_list={\"x\":task.dim_x,\"y\":task.dim_y}, gt = task.mutual_information)\n",
    "model.fit(train_l,test_l)"
   ]
  }
 ],
 "metadata": {
  "kernelspec": {
   "display_name": "Python 3 (ipykernel)",
   "language": "python",
   "name": "python3"
  },
  "language_info": {
   "codemirror_mode": {
    "name": "ipython",
    "version": 3
   },
   "file_extension": ".py",
   "mimetype": "text/x-python",
   "name": "python",
   "nbconvert_exporter": "python",
   "pygments_lexer": "ipython3",
   "version": "3.9.12"
  }
 },
 "nbformat": 4,
 "nbformat_minor": 4
}
